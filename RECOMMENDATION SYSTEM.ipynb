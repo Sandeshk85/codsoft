{
 "cells": [
  {
   "cell_type": "code",
   "execution_count": null,
   "id": "481b74ae",
   "metadata": {},
   "outputs": [],
   "source": []
  },
  {
   "cell_type": "code",
   "execution_count": 3,
   "id": "be4d929e",
   "metadata": {},
   "outputs": [
    {
     "name": "stdout",
     "output_type": "stream",
     "text": [
      "Recommendations for User 0 :\n",
      "Item 1\n",
      "Item 3\n",
      "Item 1\n"
     ]
    }
   ],
   "source": [
    "import numpy as np\n",
    "\n",
    "# User-item ratings matrix (example data)\n",
    "ratings = np.array([\n",
    "    [5, 0, 4, 0, 3],\n",
    "    [0, 4, 0, 0, 2],\n",
    "    [3, 0, 0, 5, 0],\n",
    "    [0, 2, 0, 0, 4]\n",
    "])\n",
    "\n",
    "# Calculate the similarity between users (e.g., using cosine similarity)\n",
    "def cosine_similarity(u1, u2):\n",
    "    dot_product = np.dot(u1, u2)\n",
    "    norm_u1 = np.linalg.norm(u1)\n",
    "    norm_u2 = np.linalg.norm(u2)\n",
    "    return dot_product / (norm_u1 * norm_u2)\n",
    "\n",
    "# Recommend items to a target user\n",
    "def collaborative_filtering_recommendation(user_id, ratings_matrix, num_recommendations=5):\n",
    "    target_user_ratings = ratings_matrix[user_id]\n",
    "    similarities = []\n",
    "\n",
    "    for i in range(len(ratings_matrix)):\n",
    "        if i != user_id:\n",
    "            similarity = cosine_similarity(target_user_ratings, ratings_matrix[i])\n",
    "            similarities.append((i, similarity))\n",
    "\n",
    "    similarities.sort(key=lambda x: x[1], reverse=True)\n",
    "    recommendations = []\n",
    "    \n",
    "    for user, similarity in similarities[:num_recommendations]:\n",
    "        for i, rating in enumerate(ratings_matrix[user]):\n",
    "            if rating > 0 and target_user_ratings[i] == 0:\n",
    "                recommendations.append(i)\n",
    "\n",
    "    return recommendations[:num_recommendations]\n",
    "\n",
    "# Example usage\n",
    "user_id = 0  # The target user\n",
    "recommendations = collaborative_filtering_recommendation(user_id, ratings)\n",
    "print(\"Recommendations for User\", user_id, \":\")\n",
    "for item_id in recommendations:\n",
    "    print(\"Item\", item_id)\n"
   ]
  },
  {
   "cell_type": "code",
   "execution_count": 4,
   "id": "e4d4de0b",
   "metadata": {},
   "outputs": [
    {
     "name": "stdout",
     "output_type": "stream",
     "text": [
      "Content-Based Recommendations:\n",
      "Item 0 Score: 12\n",
      "Item 2 Score: 9\n",
      "Item 1 Score: 7\n",
      "Item 3 Score: 7\n",
      "Item 4 Score: 7\n"
     ]
    }
   ],
   "source": [
    "# Item features (e.g., genres, keywords)\n",
    "item_features = {\n",
    "    0: [\"action\", \"adventure\", \"sci-fi\"],\n",
    "    1: [\"romance\", \"drama\", \"comedy\"],\n",
    "    2: [\"action\", \"drama\", \"crime\"],\n",
    "    3: [\"adventure\", \"sci-fi\", \"fantasy\"],\n",
    "    4: [\"comedy\", \"romance\", \"drama\"]\n",
    "}\n",
    "\n",
    "# User preferences (example data)\n",
    "user_preferences = {\n",
    "    \"action\": 5,\n",
    "    \"adventure\": 4,\n",
    "    \"sci-fi\": 3,\n",
    "    \"romance\": 2,\n",
    "    \"drama\": 4,\n",
    "    \"comedy\": 1\n",
    "}\n",
    "\n",
    "# Recommend items to a user based on content similarity\n",
    "def content_based_filtering_recommendation(user_prefs, item_features, num_recommendations=5):\n",
    "    recommendations = []\n",
    "    \n",
    "    for item_id, features in item_features.items():\n",
    "        similarity_score = 0\n",
    "        for feature in features:\n",
    "            if feature in user_prefs:\n",
    "                similarity_score += user_prefs[feature]\n",
    "        recommendations.append((item_id, similarity_score))\n",
    "\n",
    "    recommendations.sort(key=lambda x: x[1], reverse=True)\n",
    "    return recommendations[:num_recommendations]\n",
    "\n",
    "# Example usage\n",
    "recommendations = content_based_filtering_recommendation(user_preferences, item_features)\n",
    "print(\"Content-Based Recommendations:\")\n",
    "for item_id, score in recommendations:\n",
    "    print(\"Item\", item_id, \"Score:\", score)\n"
   ]
  },
  {
   "cell_type": "code",
   "execution_count": null,
   "id": "27753d3a",
   "metadata": {},
   "outputs": [],
   "source": []
  }
 ],
 "metadata": {
  "kernelspec": {
   "display_name": "Python 3 (ipykernel)",
   "language": "python",
   "name": "python3"
  },
  "language_info": {
   "codemirror_mode": {
    "name": "ipython",
    "version": 3
   },
   "file_extension": ".py",
   "mimetype": "text/x-python",
   "name": "python",
   "nbconvert_exporter": "python",
   "pygments_lexer": "ipython3",
   "version": "3.10.9"
  }
 },
 "nbformat": 4,
 "nbformat_minor": 5
}
